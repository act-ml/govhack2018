{
 "cells": [
  {
   "cell_type": "code",
   "execution_count": 3,
   "metadata": {
    "collapsed": true
   },
   "outputs": [],
   "source": [
    "import csv\n",
    "\n"
   ]
  },
  {
   "cell_type": "code",
   "execution_count": 4,
   "metadata": {
    "collapsed": true
   },
   "outputs": [],
   "source": [
    "filename = 'gnaf/gnaf_flat_201805.psv'\n"
   ]
  },
  {
   "cell_type": "code",
   "execution_count": 13,
   "metadata": {
    "collapsed": false
   },
   "outputs": [],
   "source": [
    "# M 12, PBS Program Name\n",
    "# P 15, Purpose\n",
    "\n",
    "# 22, suburb\n",
    "# 23, State\n",
    "# 27, lat\n",
    "# 28, lon\n",
    "\n",
    "grants_text = dict() \n",
    "location = dict()\n",
    "\n",
    "\n",
    "with open(filename, 'rb') as csvfile:\n",
    "    #grants = csv.reader(csvfile, delimiter=' ', quotechar='|')\n",
    "    grants = csv.reader(csvfile, delimiter='|', quotechar='\"')\n",
    "\n",
    "    for i, row in enumerate(grants):\n",
    "        if i == 0: continue\n",
    "            \n",
    "        #print row\n",
    "        suburb = row[23]\n",
    "        state = row[24]\n",
    "        \n",
    "        lat = float( row[28] )\n",
    "        lon = float( row[29] )\n",
    "        \n",
    "        #print suburb, state, lat, lon\n",
    "        loc = suburb+'_'+state\n",
    "        if loc not in location: location[loc] = (lat, lon)\n",
    "        else:\n",
    "            lat_curr, lon_curr = location[loc]\n",
    "            location[loc] = ( (lat_curr + lat)/2.0, (lon_curr + lon)/2.0 )\n",
    "        #break \n",
    "        \n",
    "        #program = row[12]\n",
    "        #purpose = row[15]\n",
    "        #if program not in grants_text: grants_text[program] = list()\n",
    "        #grants_text[program].append(purpose)\n",
    "        #grants_text['program']\n",
    "        #break\n",
    "        "
   ]
  },
  {
   "cell_type": "code",
   "execution_count": 20,
   "metadata": {
    "collapsed": false
   },
   "outputs": [
    {
     "name": "stdout",
     "output_type": "stream",
     "text": [
      "COOMRITH_QLD (-27.620923382775764, 149.55828398519202)\n",
      "CHINTIN_VIC (-37.37545813484342, 144.83476273016777)\n",
      "MIDDLE COVE_NSW (-33.794914803403316, 151.2097142515558)\n",
      "LURG_VIC (-36.59315025102042, 146.12638604240263)\n",
      "HIGH WYCOMBE_WA (-31.940753036870234, 116.00704398365168)\n",
      "ROSEDALE_QLD (-24.639411650136346, 151.92428155394202)\n",
      "NORTH HAVEN_SA (-34.78764614788619, 138.49426905112693)\n",
      "NORTH MALENY_QLD (-26.75442132142333, 152.8745872470675)\n",
      "BRIDGEWATER_TAS (-42.73877183138134, 147.24449963509267)\n",
      "NORAH HEAD_NSW (-33.283448579795596, 151.56592250754184)\n",
      "STANWELL PARK_NSW (-34.22870675767161, 150.9847189337964)\n"
     ]
    }
   ],
   "source": [
    "for i, key in enumerate(location.keys()):\n",
    "    if i > 10: break\n",
    "    print key, location[key]\n",
    "    "
   ]
  },
  {
   "cell_type": "code",
   "execution_count": 25,
   "metadata": {
    "collapsed": false
   },
   "outputs": [],
   "source": [
    "filename_out = 'gnaf/suburb_state_geocode.csv'\n",
    "\n",
    "with open(filename_out, 'w') as outfile:\n",
    "    for i, key in enumerate(sorted(location.keys())):\n",
    "        lat, lon = location[key]\n",
    "        suburb, state = key.split('_')\n",
    "        outfile.write(','.join([suburb, state, str(lat), str(lon)]) + '\\n')\n",
    "            "
   ]
  },
  {
   "cell_type": "code",
   "execution_count": null,
   "metadata": {
    "collapsed": true
   },
   "outputs": [],
   "source": []
  }
 ],
 "metadata": {
  "kernelspec": {
   "display_name": "Python 2",
   "language": "python",
   "name": "python2"
  },
  "language_info": {
   "codemirror_mode": {
    "name": "ipython",
    "version": 2
   },
   "file_extension": ".py",
   "mimetype": "text/x-python",
   "name": "python",
   "nbconvert_exporter": "python",
   "pygments_lexer": "ipython2",
   "version": "2.7.10"
  }
 },
 "nbformat": 4,
 "nbformat_minor": 0
}
