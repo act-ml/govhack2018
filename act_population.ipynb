{
 "cells": [
  {
   "cell_type": "code",
   "execution_count": 2,
   "metadata": {
    "collapsed": true
   },
   "outputs": [],
   "source": [
    "import csv\n",
    "import xml.etree.ElementTree\n",
    "\n",
    "import re\n"
   ]
  },
  {
   "cell_type": "code",
   "execution_count": 7,
   "metadata": {
    "collapsed": true
   },
   "outputs": [],
   "source": [
    "filename_coord = 'gnaf/australian_postcodes.csv'\n",
    "location = dict()\n",
    "\n",
    "with open(filename_coord, 'rb') as in_f:\n",
    "    loc = csv.reader(in_f, delimiter=',', quotechar='\"')\n",
    "    \n",
    "    for i, row in enumerate(loc):\n",
    "        if i == 0: continue\n",
    "            \n",
    "        #print row\n",
    "        postcode, sub, state, lon, lat, _, _ = row\n",
    "        location[sub+'_'+state] = [lat, lon]\n",
    "        \n"
   ]
  },
  {
   "cell_type": "code",
   "execution_count": 10,
   "metadata": {
    "collapsed": false
   },
   "outputs": [
    {
     "name": "stdout",
     "output_type": "stream",
     "text": [
      "COOMRITH_QLD ['-27.383801', '149.525379']\n"
     ]
    }
   ],
   "source": [
    "for k in location.keys():\n",
    "    print k, location[k]\n",
    "    break\n",
    "    \n"
   ]
  },
  {
   "cell_type": "code",
   "execution_count": 3,
   "metadata": {
    "collapsed": true
   },
   "outputs": [],
   "source": [
    "filename = 'act_population/ACT_Population_Projections_by_Suburb__2015_-_2020_.csv'\n"
   ]
  },
  {
   "cell_type": "code",
   "execution_count": 59,
   "metadata": {
    "collapsed": false
   },
   "outputs": [
    {
     "name": "stdout",
     "output_type": "stream",
     "text": [
      "660\n"
     ]
    }
   ],
   "source": [
    "# age 0-4 row[2:7], row[88:93]\n",
    "# age 5-17 row[2:7], row[88:93]\n",
    "# age 18-60 row[2:7], row[88:93]\n",
    "# age 61+ row[2:7], row[88:93]\n",
    "\n",
    "act_pop_year = dict()\n",
    "\n",
    "with open(filename) as in_f:\n",
    "        act_p = csv.reader(in_f, delimiter=',', quotechar='\"')\n",
    "        \n",
    "        for i, row in enumerate( act_p ):\n",
    "            \n",
    "            year = (row[0]).split()[0][6:]\n",
    "            \n",
    "            #print row[63:88], row[149:174] \n",
    "            suburb = row[1].upper().strip()\n",
    "            \n",
    "            \n",
    "            if i >= 1:\n",
    "                age_0_4 = sum( [int(r) for r in row[2:7]] + [int(r) for r in row[88:93]] )\n",
    "                age_5_17 = sum( [int(r) for r in row[7:20]] + [int(r) for r in row[93:106]] )\n",
    "                age_18_60 = sum( [int(r) for r in row[20:63]] + [int(r) for r in row[106:149]] )\n",
    "                age_61_plus = sum( [int(r) for r in row[63:88]] + [int(r) for r in row[149:174]] )\n",
    "                \n",
    "                lat = lon = ''\n",
    "                if suburb+'_ACT' in location: \n",
    "                    lat, lon = location[suburb+'_ACT']\n",
    "                    \n",
    "                #print age_0_4, age_5_17, age_18_60, age_61_plus, suburb, lat, lon\n",
    "                act_pop_year[suburb+'_'+year] = (age_0_4, age_5_17, age_18_60, age_61_plus, lat, lon)\n",
    "            \n",
    "            #print row, year, '\\n'\n",
    "            \n",
    "            #if i >= 2: break\n",
    "print(len(act_pop_year.keys()))\n",
    "        "
   ]
  },
  {
   "cell_type": "code",
   "execution_count": null,
   "metadata": {
    "collapsed": true
   },
   "outputs": [],
   "source": []
  },
  {
   "cell_type": "code",
   "execution_count": 85,
   "metadata": {
    "collapsed": false
   },
   "outputs": [],
   "source": [
    "# Grant data\n",
    "filename_grants = 'grants_pbi_mk1.csv'\n",
    "filename_grants_out = 'grants_pbi_mk2_temp.csv'\n",
    "\n",
    "header = ['\\xef\\xbb\\xbfAgency', 'Column2', 'GA ID', 'Column4', 'Column5', 'Column6', 'Grant received', \n",
    "          'Column8', 'Column9', 'Funds received', 'Column11', 'Column12', 'Column13', 'Outcome', \n",
    "          'Grant Name', 'Description', 'Column17', 'Column18', 'Column19', 'Column20', 'Type', 'Category', \n",
    "          'Column23', 'Column24', 'Column25', 'Column26', 'Column27', 'Column28', 'Business Name', 'ABN', \n",
    "          'Suburb', 'Column32', 'PostCode', 'State', 'Column35', 'Column36', 'Column37', 'Column38', \n",
    "          'Column39', 'Column40', 'Column41', 'Latitude', 'Longitude', 'Population_0_4',\n",
    "          'Population_5_17', 'Population_18_60', 'Population_61_plus', 'Population_lat', 'Population_lon']\n",
    "\n",
    "with open(filename_grants) as in_f:\n",
    "    with open(filename_grants_out, 'w') as out_f:\n",
    "        grants = csv.reader(in_f, delimiter=',', quotechar='\"')\n",
    "        out_f.write('\\t'.join( header ) + '\\n')\n",
    "        \n",
    "        for i, row in enumerate( grants ):\n",
    "            suburb = row[30].upper().strip()\n",
    "            state = row[33].upper().strip()\n",
    "            year = row[6][-4:]\n",
    "            ABN = row[29].replace(' ', '')\n",
    "            row[29] = ABN\n",
    "            \n",
    "            #print suburb, state, year, ABN\n",
    "            # act_pop_year[suburb+'_'+year] = (age_0_4, age_5_17, age_18_60, age_61_plus, lat, lon)\n",
    "            age_0_4 = ''\n",
    "            age_5_17 = ''\n",
    "            age_18_60 = ''\n",
    "            age_61_plus = ''\n",
    "            lat = ''\n",
    "            lon = ''\n",
    "            \n",
    "            if state == 'ACT' and suburb+'_'+year in act_pop_year:\n",
    "                age_0_4, age_5_17, age_18_60, age_61_plus, lat, lon = [str(n) for n in act_pop_year[suburb+'_'+year] ]\n",
    "                #print age_0_4, age_5_17, age_18_60, age_61_plus, lat, lon\n",
    "                #print row\n",
    "            \n",
    "            if i == 0: continue #header = row\n",
    "                \n",
    "            out_f.write('\\t'.join( row + [age_0_4, age_5_17, age_18_60, age_61_plus, lat, lon] ) + '\\n')\n",
    "            \n",
    "                \n",
    "            #print row, \n",
    "            #if i > 10: break\n",
    "        "
   ]
  },
  {
   "cell_type": "code",
   "execution_count": null,
   "metadata": {
    "collapsed": true
   },
   "outputs": [],
   "source": []
  },
  {
   "cell_type": "code",
   "execution_count": null,
   "metadata": {
    "collapsed": true
   },
   "outputs": [],
   "source": []
  },
  {
   "cell_type": "code",
   "execution_count": null,
   "metadata": {
    "collapsed": true
   },
   "outputs": [],
   "source": []
  },
  {
   "cell_type": "code",
   "execution_count": null,
   "metadata": {
    "collapsed": true
   },
   "outputs": [],
   "source": []
  },
  {
   "cell_type": "code",
   "execution_count": null,
   "metadata": {
    "collapsed": true
   },
   "outputs": [],
   "source": []
  }
 ],
 "metadata": {
  "kernelspec": {
   "display_name": "Python 2",
   "language": "python",
   "name": "python2"
  },
  "language_info": {
   "codemirror_mode": {
    "name": "ipython",
    "version": 2
   },
   "file_extension": ".py",
   "mimetype": "text/x-python",
   "name": "python",
   "nbconvert_exporter": "python",
   "pygments_lexer": "ipython2",
   "version": "2.7.10"
  }
 },
 "nbformat": 4,
 "nbformat_minor": 0
}
